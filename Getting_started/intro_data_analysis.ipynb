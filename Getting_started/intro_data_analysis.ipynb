{
 "cells": [
  {
   "cell_type": "code",
   "execution_count": 5,
   "metadata": {},
   "outputs": [],
   "source": [
    "import numpy as np\n",
    "import pandas as pd\n",
    "import matplotlib.pyplot as plt\n",
    "\n",
    "CARD = [\"heart\", \"club\", \"spade\", \"diamond\"]\n",
    "COLOR_CARD = [\"red\", \"black\"]"
   ]
  },
  {
   "cell_type": "code",
   "execution_count": null,
   "metadata": {},
   "outputs": [],
   "source": [
    "data = pd.read_csv(r\"file_path\")\n",
    "data.head()"
   ]
  },
  {
   "cell_type": "code",
   "execution_count": null,
   "metadata": {},
   "outputs": [],
   "source": [
    "data.rename(columns={0: \"gender\",\n",
    "\t\t\t\t\t 1: \"card_col\"\n",
    "\t\t\t\t\t 2: \"uni_year\",\n",
    "\t\t\t\t\t 3: \"major\",\n",
    "\t\t\t\t\t 4: \"age_group\", \n",
    "\t\t\t\t\t 5: \"intl_or_not\",\n",
    "\t\t\t\t\t 6: \"big_college_fear\", \n",
    "\t\t\t\t\t 7: \"fav_food\",\n",
    "\t\t\t\t\t 8: \"fav_season\",\n",
    "\t\t\t\t\t 9: \"fav_past_time\", \n",
    "\t\t\t\t\t 10: \"sleep_hour\",\n",
    "\t\t\t\t\t 11: \"roadtrip_vs_vacation\", \n",
    "\t\t\t\t\t 12: \"times_asleep\",})\n",
    "\n",
    "data"
   ]
  },
  {
   "cell_type": "code",
   "execution_count": 3,
   "metadata": {},
   "outputs": [],
   "source": [
    "def av_sleep_hour(df: pd.DataFrame, card: list, sleep_hour_col: str, card_col: str):\n",
    "\tfor i in range(len(card)):\n",
    "\t\tdf_team = df[df[card_col] == card[i]]\n",
    "\t\tav_hour = df_team.mean()\n",
    "\t\tprint(f\"The average hours of sleep for team {card[i]} is {av_hour}\")\n",
    "\n",
    "av_sleep_hour(data, COLOR_CARD, \"sleep_hour\", \"card_col\")"
   ]
  },
  {
   "cell_type": "code",
   "execution_count": null,
   "metadata": {},
   "outputs": [],
   "source": [
    "def "
   ]
  }
 ],
 "metadata": {
  "kernelspec": {
   "display_name": "Python 3",
   "language": "python",
   "name": "python3"
  },
  "language_info": {
   "codemirror_mode": {
    "name": "ipython",
    "version": 3
   },
   "file_extension": ".py",
   "mimetype": "text/x-python",
   "name": "python",
   "nbconvert_exporter": "python",
   "pygments_lexer": "ipython3",
   "version": "3.11.4"
  }
 },
 "nbformat": 4,
 "nbformat_minor": 2
}
