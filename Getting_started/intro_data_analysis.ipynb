{
 "cells": [
  {
   "cell_type": "code",
   "execution_count": 5,
   "metadata": {},
   "outputs": [],
   "source": [
    "import numpy as np\n",
    "import pandas as pd\n",
    "import matplotlib.pyplot as plt\n",
    "import random\n",
    "\n",
    "CARD = [\"heart\", \"club\", \"spade\", \"diamond\"]\n",
    "COLOR_CARD = [\"red\", \"black\"]"
   ]
  },
  {
   "cell_type": "code",
   "execution_count": null,
   "metadata": {},
   "outputs": [],
   "source": [
    "data = pd.read_csv(r\"file_path\")\n",
    "data.head()"
   ]
  },
  {
   "cell_type": "code",
   "execution_count": null,
   "metadata": {},
   "outputs": [],
   "source": [
    "data.drop(\"\", inplace=True)"
   ]
  },
  {
   "cell_type": "code",
   "execution_count": null,
   "metadata": {},
   "outputs": [],
   "source": [
    "data.rename(columns={0: \"gender\",\n",
    "\t\t\t\t\t 1: \"card_col\"\n",
    "\t\t\t\t\t 2: \"uni_year\",\n",
    "\t\t\t\t\t 3: \"major\",\n",
    "\t\t\t\t\t 4: \"age_group\", \n",
    "\t\t\t\t\t 5: \"intl_or_not\",\n",
    "\t\t\t\t\t 6: \"big_college_fear\", \n",
    "\t\t\t\t\t 7: \"fav_food\",\n",
    "\t\t\t\t\t 8: \"fav_season\",\n",
    "\t\t\t\t\t 9: \"fav_past_time\", \n",
    "\t\t\t\t\t 10: \"sleep_hour\",\n",
    "\t\t\t\t\t 11: \"roadtrip_vs_vacation\", \n",
    "\t\t\t\t\t 12: \"times_asleep_inclass\",})\n",
    "\n",
    "data"
   ]
  },
  {
   "cell_type": "markdown",
   "metadata": {},
   "source": [
    "## 1. Analyze data and compute necessary values"
   ]
  },
  {
   "cell_type": "code",
   "execution_count": null,
   "metadata": {},
   "outputs": [],
   "source": [
    "data.describe()"
   ]
  },
  {
   "cell_type": "code",
   "execution_count": null,
   "metadata": {},
   "outputs": [],
   "source": [
    "data.info()"
   ]
  },
  {
   "cell_type": "code",
   "execution_count": 3,
   "metadata": {},
   "outputs": [],
   "source": [
    "def compute_vals(df: pd.DataFrame, card: list, target_col: str, card_col: str):\n",
    "\tfor i in range(len(card)):\n",
    "\t\tdf_team = df[df[card_col] == card[i]]\n",
    "\t\tav_hour = df_team[target_col].mean()\n",
    "\t\tmin_hour = df_team[target_col].min()\n",
    "\t\tmax_hour = df_team[target_col].max()\n",
    "\t\tprint(f\"The average hours of sleep for team {card[i]} is {av_hour}\")\n",
    "\t\tprint(f\"The minimum hours of sleep for team {card[i]} is {min_hour}\")\n",
    "\t\tprint(f\"The maximum hours of sleep for team {card[i]} is {max_hour}\")\n",
    "\t\tprint()\n",
    "\n",
    "compute_vals(data, COLOR_CARD, \"sleep_hour\", \"card_col\")\n",
    "compute_vals(data, CARD, \"times_asleep_inclass\", \"card_col\")"
   ]
  },
  {
   "cell_type": "markdown",
   "metadata": {},
   "source": [
    "## 2. Visualize data"
   ]
  },
  {
   "cell_type": "markdown",
   "metadata": {},
   "source": [
    "- Bar chart on favorite seasons"
   ]
  },
  {
   "cell_type": "code",
   "execution_count": null,
   "metadata": {},
   "outputs": [],
   "source": [
    "def visualize_fav_season(df: pd.DataFrame, card: list, sleep_hour_col: str, card_col: str):"
   ]
  },
  {
   "cell_type": "markdown",
   "metadata": {},
   "source": [
    "- Percentage pie chart on biggest college fears"
   ]
  },
  {
   "cell_type": "code",
   "execution_count": null,
   "metadata": {},
   "outputs": [],
   "source": [
    "..."
   ]
  },
  {
   "cell_type": "markdown",
   "metadata": {},
   "source": [
    "## 3. Make predictions"
   ]
  }
 ],
 "metadata": {
  "kernelspec": {
   "display_name": "Python 3",
   "language": "python",
   "name": "python3"
  },
  "language_info": {
   "codemirror_mode": {
    "name": "ipython",
    "version": 3
   },
   "file_extension": ".py",
   "mimetype": "text/x-python",
   "name": "python",
   "nbconvert_exporter": "python",
   "pygments_lexer": "ipython3",
   "version": "3.11.4"
  }
 },
 "nbformat": 4,
 "nbformat_minor": 2
}
